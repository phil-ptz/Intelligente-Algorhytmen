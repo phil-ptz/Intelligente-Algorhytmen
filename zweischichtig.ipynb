{
 "cells": [
  {
   "cell_type": "code",
   "execution_count": 178,
   "metadata": {},
   "outputs": [],
   "source": [
    "import numpy\n",
    "import math"
   ]
  },
  {
   "cell_type": "code",
   "execution_count": 179,
   "metadata": {},
   "outputs": [],
   "source": [
    "x_data = [[-1,-1],[-1,1],[1,-1],[1,1]]\n",
    "y_data = [-1,1,1,-1]\n",
    "w = [[[1,-1],[-1,1]], [1,1]]\n",
    "v = [1,-1]\n",
    "\n",
    "learning_rate = 0.1"
   ]
  },
  {
   "cell_type": "code",
   "execution_count": 180,
   "metadata": {},
   "outputs": [],
   "source": [
    "def sgn(x):\n",
    "    try:\n",
    "        return 1 if x > 0 else -1\n",
    "    except:\n",
    "        y = numpy.array([])\n",
    "        for i in x:\n",
    "            y = numpy.append(y, 1 if i > 0 else -1)\n",
    "        return y"
   ]
  },
  {
   "cell_type": "code",
   "execution_count": 181,
   "metadata": {},
   "outputs": [],
   "source": [
    "def sig(x):\n",
    "    return 1/(1+math.e**(-x))\n",
    "def sig1(x):\n",
    "    return sig(x)*(1-sig(x))"
   ]
  },
  {
   "cell_type": "code",
   "execution_count": 182,
   "metadata": {},
   "outputs": [],
   "source": [
    "def grad(t,o):\n",
    "    delta1 = sig(numpy.dot(numpy.dot(w[1],t),y_data-o))\n",
    "    delta2 = sig(numpy.dot(numpy.dot(w[0],x_data),numpy.dot(w[1],delta1)))\n",
    "    dw1 = learning_rate * numpy.dot(delta1,t)\n",
    "    dw0 = learning_rate * numpy.dot(delta2,x_data)\n",
    "    return dw0, dw1"
   ]
  },
  {
   "cell_type": "code",
   "execution_count": 183,
   "metadata": {},
   "outputs": [
    {
     "ename": "ValueError",
     "evalue": "shapes (2,) and (4,2) not aligned: 2 (dim 0) != 4 (dim 0)",
     "output_type": "error",
     "traceback": [
      "\u001b[0;31m---------------------------------------------------------------------------\u001b[0m",
      "\u001b[0;31mValueError\u001b[0m                                Traceback (most recent call last)",
      "Cell \u001b[0;32mIn[183], line 13\u001b[0m\n\u001b[1;32m      9\u001b[0m         y \u001b[38;5;241m=\u001b[39m sgn(numpy\u001b[38;5;241m.\u001b[39mdot(y, w[i])\u001b[38;5;241m-\u001b[39mv[i])\n\u001b[1;32m     11\u001b[0m     o\u001b[38;5;241m.\u001b[39mappend(y)\n\u001b[0;32m---> 13\u001b[0m \u001b[43mgrad\u001b[49m\u001b[43m(\u001b[49m\u001b[43mt\u001b[49m\u001b[43m,\u001b[49m\u001b[43mo\u001b[49m\u001b[43m)\u001b[49m\n",
      "Cell \u001b[0;32mIn[182], line 2\u001b[0m, in \u001b[0;36mgrad\u001b[0;34m(t, o)\u001b[0m\n\u001b[1;32m      1\u001b[0m \u001b[38;5;28;01mdef\u001b[39;00m\u001b[38;5;250m \u001b[39m\u001b[38;5;21mgrad\u001b[39m(t,o):\n\u001b[0;32m----> 2\u001b[0m     delta1 \u001b[38;5;241m=\u001b[39m sig(numpy\u001b[38;5;241m.\u001b[39mdot(\u001b[43mnumpy\u001b[49m\u001b[38;5;241;43m.\u001b[39;49m\u001b[43mdot\u001b[49m\u001b[43m(\u001b[49m\u001b[43mw\u001b[49m\u001b[43m[\u001b[49m\u001b[38;5;241;43m1\u001b[39;49m\u001b[43m]\u001b[49m\u001b[43m,\u001b[49m\u001b[43mt\u001b[49m\u001b[43m)\u001b[49m,y_data\u001b[38;5;241m-\u001b[39mo))\n\u001b[1;32m      3\u001b[0m     delta2 \u001b[38;5;241m=\u001b[39m sig(numpy\u001b[38;5;241m.\u001b[39mdot(numpy\u001b[38;5;241m.\u001b[39mdot(w[\u001b[38;5;241m0\u001b[39m],x_data),numpy\u001b[38;5;241m.\u001b[39mdot(w[\u001b[38;5;241m1\u001b[39m],delta1)))\n\u001b[1;32m      4\u001b[0m     dw1 \u001b[38;5;241m=\u001b[39m learning_rate \u001b[38;5;241m*\u001b[39m numpy\u001b[38;5;241m.\u001b[39mdot(delta1,t)\n",
      "\u001b[0;31mValueError\u001b[0m: shapes (2,) and (4,2) not aligned: 2 (dim 0) != 4 (dim 0)"
     ]
    }
   ],
   "source": [
    "t = []\n",
    "o = []\n",
    "\n",
    "for x in x_data:\n",
    "    y = sgn(numpy.dot(x, w[0])-v[0])\n",
    "    t.append(y)\n",
    "\n",
    "    for i in range(1,len(v)):\n",
    "        y = sgn(numpy.dot(y, w[i])-v[i])\n",
    "\n",
    "    o.append(y)\n",
    "\n",
    "grad(t,o)"
   ]
  }
 ],
 "metadata": {
  "kernelspec": {
   "display_name": "Python 3",
   "language": "python",
   "name": "python3"
  },
  "language_info": {
   "codemirror_mode": {
    "name": "ipython",
    "version": 3
   },
   "file_extension": ".py",
   "mimetype": "text/x-python",
   "name": "python",
   "nbconvert_exporter": "python",
   "pygments_lexer": "ipython3",
   "version": "3.13.1"
  }
 },
 "nbformat": 4,
 "nbformat_minor": 2
}
