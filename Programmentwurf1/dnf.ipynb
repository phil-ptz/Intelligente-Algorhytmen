{
 "cells": [
  {
   "cell_type": "markdown",
   "metadata": {},
   "source": [
    "# Implementierung einer Aussagenlogischen Formel in der DNF als Neuronales Netz"
   ]
  },
  {
   "cell_type": "markdown",
   "metadata": {},
   "source": [
    "## Vorbetrachtung"
   ]
  },
  {
   "cell_type": "markdown",
   "metadata": {},
   "source": [
    "Satz: Jede aussagenlogische Formel in disjunktiver Normalform kann durch ein zweischichtiges, vorwärtsgetriebenes neuronales Netz realisiert werden.\n",
    "\n",
    "Zwischenschicht: $z_m$ (m Monome) \\\n",
    "Eingabeschicht: $x_{n} \\in \\{1,-1\\}$ (Aussagenvariablen) \\\n",
    "Ausgabeschicht: Ein Neuron $y$ \\\n",
    "Aktivierungsfunktion: Vorzeichenfunktion $sgn()$\n",
    "\n",
    "Es folgt: \\\n",
    "$\\vec{z} = sgn(w \\cdot \\vec{x} - \\vec{v})$ \\\n",
    "$y = sgn(W \\cdot \\vec{z} - V)$\n",
    "\n",
    "Gewichtsmatrizen: $w \\in \\mathbb{R}^{(m,n)}$ und $W \\in \\mathbb{R}^{(1,m)}$ \\\n",
    "Schwellwerte: $\\vec{v} \\in \\mathbb{R}^m$ und $V \\in \\mathbb{R}$"
   ]
  },
  {
   "cell_type": "markdown",
   "metadata": {},
   "source": [
    "## Initialisierung"
   ]
  },
  {
   "cell_type": "markdown",
   "metadata": {},
   "source": [
    "### Imports"
   ]
  },
  {
   "cell_type": "markdown",
   "metadata": {},
   "source": [
    "Numpy wird verwendet um die Matrizen und Vektoren zu speichern und um damit Operationen ausführen zu können."
   ]
  },
  {
   "cell_type": "code",
   "execution_count": null,
   "metadata": {},
   "outputs": [],
   "source": [
    "import numpy as np"
   ]
  },
  {
   "cell_type": "markdown",
   "metadata": {},
   "source": [
    "### Konstanten"
   ]
  },
  {
   "cell_type": "markdown",
   "metadata": {},
   "source": [
    "Als aussagenlogische Formel in DNF wird folgende  gegeben:\n",
    "\n",
    "$(x_1 \\land x_2) \\lor (x_3 \\land x_4) \\lor (x_5 \\land x_6) \\lor (x_7 \\land x_8) \\lor (x_9 \\land x_{10})$"
   ]
  },
  {
   "cell_type": "code",
   "execution_count": null,
   "metadata": {},
   "outputs": [],
   "source": [
    "# Anzahl Monome\n",
    "m = 5\n",
    "# Anzahl Aussagenvariablen\n",
    "n = 10"
   ]
  },
  {
   "cell_type": "markdown",
   "metadata": {},
   "source": [
    "### Trainingswerte erstellen"
   ]
  },
  {
   "cell_type": "code",
   "execution_count": null,
   "metadata": {},
   "outputs": [],
   "source": [
    "# Anzahl der zufälligen Belegungen\n",
    "daten_umfang = 10\n",
    "\n",
    "# Liste an Aussagenvariablen erstellen\n",
    "x_array = np.random.choice([1,-1], size=(daten_umfang, n))\n",
    "\n",
    "def aussagenlogische_formel(x):\n",
    "    # (x1 und x2) oder (x3 und x4) oder (x5 und x6) oder (x7 und x8) oder (x9 und x10)\n",
    "    \n",
    "    y = (\n",
    "        x[0] == 1 and x[1] == 1 or \\\n",
    "        x[2] == 1 and x[3] == 1 or \\\n",
    "        x[4] == 1 and x[5] == 1 or \\\n",
    "        x[6] == 1 and x[7] == 1 or \\\n",
    "        x[8] == 1 and x[9] == 1\n",
    "    )\n",
    "\n",
    "    return 1 if y else -1\n",
    "\n",
    "# Erwartete Ausgaben erstellen\n",
    "p_array = np.array([aussagenlogische_formel(i) for i in x_array])"
   ]
  },
  {
   "cell_type": "markdown",
   "metadata": {},
   "source": [
    "### Aktivierungsfunktion"
   ]
  },
  {
   "cell_type": "code",
   "execution_count": null,
   "metadata": {},
   "outputs": [],
   "source": [
    "def sgn(x):\n",
    "    return np.where(x < 0, -1, 1)"
   ]
  },
  {
   "cell_type": "markdown",
   "metadata": {},
   "source": [
    "## Implementierung mit Fehlerrückübertragung"
   ]
  },
  {
   "cell_type": "markdown",
   "metadata": {},
   "source": [
    "### Gewichte und Schwellwerte"
   ]
  },
  {
   "cell_type": "code",
   "execution_count": null,
   "metadata": {},
   "outputs": [],
   "source": [
    "# Gewichtsmatrizen\n",
    "# 1. Schicht\n",
    "w = np.random.rand(m,n)\n",
    "# 2. Schicht\n",
    "W = np.random.rand(1,m)\n",
    "\n",
    "# Schwellwerte\n",
    "# 1. Schicht\n",
    "v = np.random.rand(m)\n",
    "# 2. Schicht\n",
    "V = np.random.rand(1)"
   ]
  },
  {
   "cell_type": "markdown",
   "metadata": {},
   "source": [
    "### Training"
   ]
  },
  {
   "cell_type": "code",
   "execution_count": null,
   "metadata": {},
   "outputs": [],
   "source": [
    "# Lernrate\n",
    "lr = 0.01\n",
    "\n",
    "for _ in range(1000):\n",
    "    for i, (x,p) in enumerate(zip(x_array, p_array)):\n",
    "\n",
    "        print(\"Epoche: \", i+1)\n",
    "\n",
    "        # Schritt\n",
    "\n",
    "        # z = sgn(w*x-v)\n",
    "        # Berechnung Zwischenschicht\n",
    "        z = sgn(np.dot(w,x)-v)\n",
    "\n",
    "        # y = sgn(W*z-V)\n",
    "        # Berechnung Ausgabeschicht\n",
    "        y = sgn(np.dot(W,z)-V)\n",
    "\n",
    "        print(f\"Ausgabe: {y}\\t Erwartet: {p}\")\n",
    "\n",
    "\n",
    "        # Fehlerrückübertragung\n",
    "        print(\"Fehler: \", p-y)\n",
    "\n",
    "        delta_W = lr * (p-y) * z\n",
    "        delta_w = lr * (p-y) * np.outer(W, x)\n",
    "\n",
    "        delta_V = -lr * (p-y)\n",
    "        delta_v = (-lr * (p-y) * W).squeeze()\n",
    "\n",
    "\n",
    "        # Delta anwenden\n",
    "\n",
    "        w += delta_w\n",
    "        W += delta_W\n",
    "        v += delta_v\n",
    "        V += delta_V"
   ]
  },
  {
   "cell_type": "markdown",
   "metadata": {},
   "source": [
    "## Implementierung mit vorgegebenen Schwellwerten"
   ]
  },
  {
   "cell_type": "markdown",
   "metadata": {},
   "source": [
    "Die Gewichte für ein DNF müssen folgendermaßen gesetzt werden:\n",
    "\n",
    "$w_{ij} = 1$ wenn $l_{ij} = x_i$ \\\n",
    "$w_{ij} = -1$ wenn $l_{ij} = \\neg x_i$ \\\n",
    "$w_{ij} = 0$ wenn $l_{ij} = w$\n",
    "\n",
    "$v_i = $  Anzahl Variablen im Monom\n",
    "\n",
    "\n",
    "alle $W_{ij} = 1$ \\\n",
    "$V = $ 1 - Anzahl der Monome"
   ]
  },
  {
   "cell_type": "markdown",
   "metadata": {},
   "source": [
    "### Gewichte und Schwellwerte"
   ]
  },
  {
   "cell_type": "code",
   "execution_count": null,
   "metadata": {},
   "outputs": [],
   "source": [
    "# (x1 und x2) oder (x3 und x4) oder (x5 und x6) oder (x7 und x8) oder (x9 und x10)\n",
    "\n",
    "w = np.array([\n",
    "    [1,1,0,0,0,0,0,0,0,0],\n",
    "    [0,0,1,1,0,0,0,0,0,0],\n",
    "    [0,0,0,0,1,1,0,0,0,0],\n",
    "    [0,0,0,0,0,0,1,1,0,0],\n",
    "    [0,0,0,0,0,0,0,0,1,1],\n",
    "])\n",
    "\n",
    "v = np.array([\n",
    "    2,2,2,2,2\n",
    "])\n",
    "\n",
    "W = np.ones(shape=(1,m))\n",
    "\n",
    "V = np.array(1-m)"
   ]
  },
  {
   "cell_type": "markdown",
   "metadata": {},
   "source": [
    "### Testen"
   ]
  },
  {
   "cell_type": "markdown",
   "metadata": {},
   "source": [
    "-> Ausgabe entspricht immer dem erwarteten Wert"
   ]
  },
  {
   "cell_type": "code",
   "execution_count": null,
   "metadata": {},
   "outputs": [],
   "source": [
    "for x, p in zip(x_array, p_array):\n",
    "    # z = sgn(w*x-v)\n",
    "    # Berechnung Zwischenschicht\n",
    "    z = sgn(np.dot(w,x)-v)\n",
    "\n",
    "    # y = sgn(W*z-V)\n",
    "    # Berechnung Ausgabeschicht\n",
    "    y = sgn(np.dot(W,z)-V)\n",
    "\n",
    "    print(f\"Ausgabe: {y}\\t Erwartet: {p}\")"
   ]
  },
  {
   "cell_type": "markdown",
   "metadata": {},
   "source": [
    "## Vorgegebene Gewichte und Schwellwerte in Fehlerrückübertragung Testen"
   ]
  },
  {
   "cell_type": "markdown",
   "metadata": {},
   "source": [
    "Der Fehler ist immer gleich null -> das Delta ist gleich null -> Gewichte und Schwellwerte bleiben unverändert."
   ]
  },
  {
   "cell_type": "code",
   "execution_count": null,
   "metadata": {},
   "outputs": [],
   "source": [
    "for x, p in zip(x_array, p_array):\n",
    "    # z = sgn(w*x-v)\n",
    "    # Berechnung Zwischenschicht\n",
    "    z = sgn(np.dot(w,x)-v)\n",
    "\n",
    "    # y = sgn(W*z-V)\n",
    "    # Berechnung Ausgabeschicht\n",
    "    y = sgn(np.dot(W,z)-V)\n",
    "\n",
    "    # Fehlerrückübertragung\n",
    "    print(\"Fehler: \", p-y)\n",
    "\n",
    "    delta_W = lr * (p-y) * z\n",
    "    delta_w = lr * (p-y) * np.outer(W, x)\n",
    "\n",
    "    delta_V = -lr * (p-y)\n",
    "    delta_v = (-lr * (p-y) * W).squeeze()"
   ]
  }
 ],
 "metadata": {
  "kernelspec": {
   "display_name": "Python 3",
   "language": "python",
   "name": "python3"
  },
  "language_info": {
   "codemirror_mode": {
    "name": "ipython",
    "version": 3
   },
   "file_extension": ".py",
   "mimetype": "text/x-python",
   "name": "python",
   "nbconvert_exporter": "python",
   "pygments_lexer": "ipython3",
   "version": "3.13.1"
  }
 },
 "nbformat": 4,
 "nbformat_minor": 2
}
