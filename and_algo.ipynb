{
 "cells": [
  {
   "cell_type": "code",
   "execution_count": 1,
   "metadata": {},
   "outputs": [],
   "source": [
    "import numpy as np"
   ]
  },
  {
   "cell_type": "code",
   "execution_count": 2,
   "metadata": {},
   "outputs": [],
   "source": [
    "wj = np.array([0.1, np.random.uniform(-1, 1), np.random.uniform(-1, 1)])"
   ]
  },
  {
   "cell_type": "code",
   "execution_count": 3,
   "metadata": {},
   "outputs": [],
   "source": [
    "def activation(x):\n",
    "    return 1 if x > 0 else -1\n",
    "\n",
    "def step(x, w):\n",
    "    return activation(np.dot(x, w))\n",
    "\n",
    "def loss(yj, x, y):\n",
    "    if yj == y:\n",
    "        return 0\n",
    "    else:\n",
    "        return -0.01 * np.dot(x, y)"
   ]
  },
  {
   "cell_type": "code",
   "execution_count": 4,
   "metadata": {},
   "outputs": [],
   "source": [
    "# AND\n",
    "xj_arr = np.array([[-1, 1, 1], [-1, 1, -1], [-1, -1, 1], [-1, -1, -1]])\n",
    "yj_arr = np.array([1, -1, -1, -1])"
   ]
  },
  {
   "cell_type": "code",
   "execution_count": 48,
   "metadata": {},
   "outputs": [
    {
     "name": "stdout",
     "output_type": "stream",
     "text": [
      "Ausgabe: 1\t(Erwartet: 1)\n",
      "Delta-Gewichte: 0\n",
      "Neue Gewichte: [0.08       0.01349651 0.08475569]\n",
      "\n",
      "Ausgabe: -1\t(Erwartet: -1)\n",
      "Delta-Gewichte: 0\n",
      "Neue Gewichte: [0.08       0.01349651 0.08475569]\n",
      "\n",
      "Ausgabe: -1\t(Erwartet: -1)\n",
      "Delta-Gewichte: 0\n",
      "Neue Gewichte: [0.08       0.01349651 0.08475569]\n",
      "\n",
      "Ausgabe: -1\t(Erwartet: -1)\n",
      "Delta-Gewichte: 0\n",
      "Neue Gewichte: [0.08       0.01349651 0.08475569]\n",
      "\n"
     ]
    }
   ],
   "source": [
    "for xj, yj in zip(xj_arr, yj_arr):\n",
    "\n",
    "    y = step(xj, wj)\n",
    "    print(f\"Ausgabe: {y}\\t(Erwartet: {yj})\")\n",
    "\n",
    "    dw = loss(yj, xj,y)\n",
    "    print(f\"Delta-Gewichte: {dw}\")\n",
    "\n",
    "    wj = wj + dw\n",
    "    print(f\"Neue Gewichte: {wj}\\n\")"
   ]
  }
 ],
 "metadata": {
  "kernelspec": {
   "display_name": "Python 3",
   "language": "python",
   "name": "python3"
  },
  "language_info": {
   "codemirror_mode": {
    "name": "ipython",
    "version": 3
   },
   "file_extension": ".py",
   "mimetype": "text/x-python",
   "name": "python",
   "nbconvert_exporter": "python",
   "pygments_lexer": "ipython3",
   "version": "3.13.1"
  }
 },
 "nbformat": 4,
 "nbformat_minor": 2
}
